{
 "cells": [
  {
   "cell_type": "code",
   "execution_count": 1,
   "id": "0aafb4dc-10e0-4a03-b8af-c4b621917ef6",
   "metadata": {},
   "outputs": [],
   "source": [
    "from docx.api import Document\n",
    "import os\n",
    "import spacy\n",
    "import numpy as np\n",
    "from rake_nltk import Rake\n",
    "import nltk\n",
    "from nltk.corpus import stopwords\n",
    "from nltk import punkt\n",
    "import string "
   ]
  },
  {
   "cell_type": "code",
   "execution_count": 2,
   "id": "ee002fc5-ab6c-4ad1-90cd-d4ff29913934",
   "metadata": {},
   "outputs": [],
   "source": [
    "nlp = spacy.load(\"en_core_web_lg\")"
   ]
  },
  {
   "cell_type": "code",
   "execution_count": 3,
   "id": "73dd82ec-8fe1-4811-92b0-957cc555b97d",
   "metadata": {},
   "outputs": [
    {
     "name": "stdout",
     "output_type": "stream",
     "text": [
      "acute angle addition algorithm or algorism angle arc area average axis base binary binomial cardinal number cartesian coordinates chord circle circumference closed set coefficient common denominator common factor complex number concentric cone constant coordinate or co-ordinate cosecant cosine cotangent cube cube root cuboid curve cusp cylinder decagon decimal denary denominator diagonal diameter digit division dodecahedron ellipse equals equation equilateral even exponential factor factorial formula fraction frequency function graph helix hemisphere heptagon hexagon hyperbola hypotenuse icosahedron imaginary number improper fraction index infinity integer integral intersection irrational number isosceles locus logarithm or log lowest common denominator lowest common multiple mandelbrot set matrix mean median minus mode multiplication natural logarithm natural number node nonagon number numerator oblong obtuse angle octagon octahedron odd open set operation operator ordinal number origin parabola parallel parallelogram pentagon percentage perfect number pi plus polygon polyhedron polynomial power prime number prism probability product proof proper fraction pythagoras' theorem quadrant quadratic equation quadrilateral quotient radian radius ratio rational number real number reciprocal rectangle recurring decimal reflex angle remainder rhombus right angle right-angled triangle root scalar scalene secant sector semicircle set significant figures simultaneous equations sine slide rule solid sphere square square root strange attractor subset subtraction sum surd tangent tetrahedron torus trapezium triangle union universal set value variable vector venn diagram volume vulgar fraction x-axis y-axis z-axis zero \n",
      "alternating current ampere amplifier angstrom anion antimatter atom baryon becquerel boyle's law brownian motion cation calorie capacitance cathode ray centre of gravity centrifugal force centripetal force charge charles' law conductor convection cosmic ray coulomb current cyclotron decibel density diffraction diffusion diode direct current doppler effect earth electricity electromotive force electron energy farad field fission fluorescence force frequency friction fuse fusion gamma ray generator gravitational wave gravity half-life hertz hyperon impetus inductance inertia infrared joule kelvin kinetic energy laser lens lepton luminescence mass matter meson microwave moment momentum muon neutrino neutron newton nucleon nucleus ohm ohm's law particle pascal planck constant planck's constant potential difference potential energy proton quantum radiation radioactivity radio wave red shift reflection refraction relativity resistance rutherford semiconductor simple harmonic motion spectrum static electricity subatomic particle superconductivity superfluidity surface tension tau particle tension terminal velocity thermostat transformer transistor ultraviolet vacuum velocity viscosity volt watt wave wavelength x-ray  \n",
      "acid alcohol alkali alkali metal alkaline earth metal alkane allotrope alloy amino acid analysis anion anode atom atomic mass atomic number base boiling point bond brownian motion carbohydrate catalyst cathode cation chain chemical equation chain reaction chromatography combustion compound concentrated condensation corrosion covalent bond crystal crystallization diffusion dilute distillation electrode electrolysis electron electrovalency element emulsion ester ether evaporation fat fatty acid fermentation fission foam formula fuel gas halogen hydrocarbon hydrolysis inert inorganic insoluble ion ionic bond ionization isomer isotope lanthanide liquid litmus test melting point metal metalloid mineral mixture molarity mole molecule monomer neutral neutron noble gas  inert gas nonmetal nucleus oil ore organic oxidation oxidation-reduction periodic table ph plastic polymer precipitate proton radioactivity reaction reagent reduce salt saponification saturated soap solid soluble solution solvent sublimation substitution reaction sugar suspension synthesis transition metal unsaturated valency van der waals forces \n"
     ]
    }
   ],
   "source": [
    "mkey = \"\"\n",
    "pkey = \"\"\n",
    "ckey = \"\"\n",
    "file = Document(\"Dataset/MathKeywords2.docx\")\n",
    "for p in file.paragraphs:\n",
    "    mkey += p.text +\" \"\n",
    "\n",
    "file = Document(\"Dataset/chemKeywords.docx\")\n",
    "for p in file.paragraphs:\n",
    "    ckey += p.text+ \" \"\n",
    "\n",
    "file = Document(\"Dataset/PhysKeywords.docx\")\n",
    "for p in file.paragraphs:\n",
    "    pkey += p.text + \" \"\n",
    "\n",
    "mkey = mkey.lower()\n",
    "pkey = pkey.lower()\n",
    "ckey = ckey.lower()\n",
    "\n",
    "print(mkey)\n",
    "print(pkey)\n",
    "print(ckey)\n",
    "\n",
    "mkey = nlp(mkey)\n",
    "pkey = nlp(pkey)\n",
    "ckey = nlp(ckey)"
   ]
  },
  {
   "cell_type": "code",
   "execution_count": 5,
   "id": "eef7675a-c040-4cac-a99c-59ad66f05f9f",
   "metadata": {},
   "outputs": [
    {
     "name": "stdout",
     "output_type": "stream",
     "text": [
      "Albert Einstein s      theory of special relativity is one of the most important papers ever published in the field of physics  Special relativity is an explanation of how speed affects mass  time and space  The theory includes a way for the speed of light to define the relationship between energy and matter   small amounts of mass  m  can be interchangeable with enormous amounts of energy  E   as defined by the classic equation E   mc   Special relativity applies to  special  cases   it s mostly used when discussing huge energies  ultra fast speeds and astronomical distances  all without the complications of gravity  Einstein officially added gravity to his theories in       with the publication of his paper on general relativity As an object approaches the speed of light  the object s mass becomes infinite and so does the energy required to move it  That means it is impossible for any matter to go faster than light travels  This cosmic speed limit inspires new realms of physics and science fiction  as people consider travel across vast distances Before Einstein  astronomers  for the most part  understood the universe in terms of three laws of motion presented by Isaac Newton in       These three laws are  Objects in motion or at rest remain in the same state unless an external force imposes change  This is also known as the concept of inertia The force acting on an object is equal to the mass of the object multiplied by its acceleration  In other words  you can calculate how much force it takes to move objects with various masses at different speeds For every action  there is an equal and opposite reaction Newton s laws proved valid in nearly every application in physics  according to Encyclopedia Britannica  They formed the basis for our understanding of mechanics and gravity  But some things couldn t be explained by Newton s work  For example  light  To shoehorn the odd behavior of light into Newton s framework for physics scientists in the     s supposed that light must be transmitted through some medium  which they called the  luminiferous ether   That hypothetical ether had to be rigid enough to transfer light waves like a guitar string vibrates with sound  but also completely undetectable in the movements of planets and stars  \n",
      "theory relativity paper field physics relativity explanation speed time space theory way speed light relationship energy matter amount mass amount energy e equation relativity case energy speed distance complication gravity gravity theory publication paper relativity object speed light object mass energy matter speed limit realm physics science fiction people distance astronomer part universe term law motion law object motion rest state force change concept inertia force object mass object acceleration word force object masse speed action reaction law application physics basis understanding mechanic gravity thing t work example light behavior light framework physics scientist light medium ether ether wave guitar string sound movement planet star\n"
     ]
    }
   ],
   "source": [
    "test = Document(\"Dataset/relativity.docx\")\n",
    "r = Rake()\n",
    "content = \"\"\n",
    "for p in test.paragraphs:\n",
    "    content+= p.text\n",
    "    content = content.replace(\"\\n\",\" \")\n",
    "con = \"\"\n",
    "for i in content:\n",
    "    if(ord(i) == 32 or (ord(i) > 64 and ord(i) < 91) or (ord(i) > 96 and ord(i) < 123)):\n",
    "        con+=i\n",
    "    else:\n",
    "        con+=\" \"\n",
    "print(con)\n",
    "con = nlp(con)\n",
    "con_noun = \" \".join([token.lemma_ for token in con if token.pos_ == \"NOUN\"])\n",
    "print(con_noun)\n",
    "conkey = nlp(con_noun)"
   ]
  },
  {
   "cell_type": "code",
   "execution_count": 6,
   "id": "eb75caad-70f2-402e-b293-e6c9692ecb01",
   "metadata": {
    "scrolled": true
   },
   "outputs": [
    {
     "name": "stdout",
     "output_type": "stream",
     "text": [
      "0.793603843184881\n",
      "0.8349880506024716\n",
      "0.9155148153573023\n"
     ]
    }
   ],
   "source": [
    "print(conkey.similarity(ckey))\n",
    "print(conkey.similarity(mkey))\n",
    "print(conkey.similarity(pkey))"
   ]
  },
  {
   "cell_type": "code",
   "execution_count": null,
   "id": "95f60e8e-d4cf-4c86-ba29-4300281bbaa2",
   "metadata": {},
   "outputs": [],
   "source": []
  },
  {
   "cell_type": "code",
   "execution_count": null,
   "id": "13f99c52-64a8-483f-8b53-741676dc33b7",
   "metadata": {},
   "outputs": [],
   "source": [
    "lof = os.listdir(\"Dataset\")\n",
    "data = []\n",
    "r = Rake()\n",
    "for f in lof:\n",
    "    document = Document(\"Dataset/\"+f)\n",
    "    res = \"\"\n",
    "    for p in document.paragraphs:\n",
    "        res+= p.text\n",
    "        res = res.replace(\"\\n\",\" \")\n",
    "    r.extract_keywords_from_text(res)\n",
    "    k = r.get_ranked_phrases_with_scores()\n",
    "    rem = \"\"\n",
    "    l = 0\n",
    "    for i in range(len(k)):\n",
    "        if k[i][0] > 1 and k[i][1] not in rem:\n",
    "            rem+=(k[i][1])+\" \"\n",
    "    print(rem)\n",
    "    print(\"\\n\")\n",
    "    #data.append(rem)"
   ]
  },
  {
   "cell_type": "code",
   "execution_count": null,
   "id": "58ba2282-60d1-4629-b963-9062782e61d9",
   "metadata": {},
   "outputs": [],
   "source": []
  }
 ],
 "metadata": {
  "kernelspec": {
   "display_name": "Python 3 (ipykernel)",
   "language": "python",
   "name": "python3"
  },
  "language_info": {
   "codemirror_mode": {
    "name": "ipython",
    "version": 3
   },
   "file_extension": ".py",
   "mimetype": "text/x-python",
   "name": "python",
   "nbconvert_exporter": "python",
   "pygments_lexer": "ipython3",
   "version": "3.12.3"
  }
 },
 "nbformat": 4,
 "nbformat_minor": 5
}
